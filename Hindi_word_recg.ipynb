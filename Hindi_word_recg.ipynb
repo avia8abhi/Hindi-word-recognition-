{
 "cells": [
  {
   "cell_type": "code",
   "execution_count": 1,
   "id": "f1cb5bad",
   "metadata": {},
   "outputs": [],
   "source": [
    "import numpy as np\n",
    "import matplotlib.pyplot as plt\n",
    "import cv2\n",
    "import numpy as np\n",
    "from keras.models import Sequential\n",
    "from keras.layers import Dense, Flatten, Conv2D, MaxPool2D, Dropout\n",
    "from keras.optimizers import SGD, Adam\n",
    "from keras.callbacks import ReduceLROnPlateau, EarlyStopping\n",
    "from keras.utils import to_categorical\n",
    "import pandas as pd\n",
    "from sklearn.linear_model import LinearRegression\n",
    "from sklearn.utils import shuffle\n",
    "from sklearn.datasets import load_digits\n",
    "import os\n",
    "from sklearn.model_selection import train_test_split\n",
    "from sklearn.utils import shuffle\n",
    "from keras.models import load_model\n",
    "from statistics import mean\n",
    "from sympy import sympify\n",
    "from time import sleep\n",
    "from sympy import Symbol, sympify, factor, plot, solve, sin, Limit, Derivative, init_printing\n",
    "from sympy import Integral, log\n",
    "from collections import deque\n",
    "\n"
   ]
  },
  {
   "cell_type": "code",
   "execution_count": 2,
   "id": "2d100124",
   "metadata": {},
   "outputs": [],
   "source": [
    "d={1:'aa',2:'auu',3: 'bha',4: 'cha',5: 'da',6: 'ga',7: 'gha',8: 'gnya',9: 'ha',10: 'ka',11:'la',12:'ma',13:'pa',14:'pha',15: 'ra',16:'sa',17: 'ta',18: 'tta',19: 'va',20:'ya'}\n",
    "X=np.zeros((30610,1024))\n",
    "y=np.zeros((30610,1))\n",
    "\n",
    "\n",
    "\n",
    "def load_image(folder):\n",
    "    count=0\n",
    "    k=0\n",
    "    images = []\n",
    "    for filename in os.listdir(folder):\n",
    "        k+=1        \n",
    "        \n",
    "        for i in os.listdir(os.path.join(folder,filename)):\n",
    "              \n",
    "            img=cv2.imread(os.path.join(folder,filename,i),cv2.IMREAD_GRAYSCALE)\n",
    "            \n",
    "            if img is not None:\n",
    "                images.append(img)\n",
    "                X[count,:]=np.reshape(images[count],(1,1024))\n",
    "                y[count,0]=k\n",
    "              \n",
    "                \n",
    "                count+=1\n",
    "                \n",
    "            else:\n",
    "                continue\n",
    "        \n",
    "                            \n",
    "load_image(\"OneDrive/Desktop/Data\")\n",
    "\n",
    "\n",
    "     \n",
    "\n"
   ]
  },
  {
   "cell_type": "code",
   "execution_count": 3,
   "id": "1cd0ac22",
   "metadata": {},
   "outputs": [
    {
     "name": "stdout",
     "output_type": "stream",
     "text": [
      "24488\n"
     ]
    }
   ],
   "source": [
    "#splitting into test and training data\n",
    "train_x, test_x, train_y, test_y = train_test_split(X, y, test_size = 0.2)\n",
    "\n",
    "#reshaping \n",
    "print(train_x.shape[0])\n",
    "\n",
    "train_x = np.reshape(train_x, (train_x.shape[0], 32,32))\n",
    "test_x = np.reshape(test_x, (test_x.shape[0], 32,32))\n",
    "\n",
    "\n",
    "\n"
   ]
  },
  {
   "cell_type": "code",
   "execution_count": 4,
   "id": "a723a921",
   "metadata": {
    "scrolled": true
   },
   "outputs": [
    {
     "data": {
      "image/png": "[encoded data removed]",
      "text/plain": [
       "<Figure size 720x720 with 9 Axes>"
      ]
     },
     "metadata": {
      "needs_background": "light"
     },
     "output_type": "display_data"
    }
   ],
   "source": [
    "shuff = shuffle(train_x[:100])\n",
    "fig, ax = plt.subplots(3,3, figsize = (10,10))\n",
    "axes = ax.flatten()\n",
    "for i in range(9):\n",
    "    _, shu = cv2.threshold(shuff[i], 30, 200, cv2.THRESH_BINARY)\n",
    "    axes[i].imshow(np.reshape(shuff[i], (32,32)), cmap=\"Greys\")\n",
    "plt.show()\n"
   ]
  },
  {
   "cell_type": "code",
   "execution_count": 5,
   "id": "54f31c57",
   "metadata": {},
   "outputs": [
    {
     "name": "stdout",
     "output_type": "stream",
     "text": [
      "24488\n",
      "New shape of train data:  (24488, 32, 32, 1)\n",
      "New shape of tra data:  (6122, 32, 32, 1)\n"
     ]
    }
   ],
   "source": [
    "print(train_x.shape[0])\n",
    "train_X = train_x.reshape(train_x.shape[0],train_x.shape[1],train_x.shape[2],1)\n",
    "print(\"New shape of train data: \", train_X.shape)\n",
    "test_X = test_x.reshape(test_x.shape[0], test_x.shape[1], test_x.shape[2],1)\n",
    "print(\"New shape of tra data: \", test_X.shape)"
   ]
  },
  {
   "cell_type": "code",
   "execution_count": 6,
   "id": "252ce0ce",
   "metadata": {},
   "outputs": [
    {
     "name": "stdout",
     "output_type": "stream",
     "text": [
      "New shape of train labels:  (24488, 21)\n",
      "New shape of test labels:  (6122, 21)\n"
     ]
    }
   ],
   "source": [
    "train_yOHE = to_categorical(train_y, num_classes = 21, dtype='int')\n",
    "print(\"New shape of train labels: \", train_yOHE.shape)\n",
    "test_yOHE = to_categorical(test_y, num_classes = 21, dtype='int')\n",
    "print(\"New shape of test labels: \", test_yOHE.shape)"
   ]
  },
  {
   "cell_type": "code",
   "execution_count": 7,
   "id": "80e226cd",
   "metadata": {},
   "outputs": [],
   "source": [
    "model = Sequential()\n",
    "model.add(Conv2D(filters=32, kernel_size=(3, 3), activation='relu', input_shape=(32,32,1)))\n",
    "model.add(MaxPool2D(pool_size=(2, 2), strides=2))\n",
    "model.add(Conv2D(filters=64, kernel_size=(3, 3), activation='relu', padding = 'same'))\n",
    "model.add(MaxPool2D(pool_size=(2, 2), strides=2))\n",
    "model.add(Conv2D(filters=128, kernel_size=(3, 3), activation='relu', padding = 'valid'))\n",
    "model.add(MaxPool2D(pool_size=(2, 2), strides=2))\n",
    "model.add(Flatten())\n",
    "model.add(Dense(64,activation =\"relu\"))\n",
    "model.add(Dense(128,activation =\"relu\"))\n",
    "model.add(Dense(21,activation =\"softmax\"))"
   ]
  },
  {
   "cell_type": "code",
   "execution_count": 8,
   "id": "f88ecc62",
   "metadata": {},
   "outputs": [
    {
     "name": "stdout",
     "output_type": "stream",
     "text": [
      "766/766 [==============================] - 13s 17ms/step - loss: 0.8146 - accuracy: 0.7695 - val_loss: 0.2098 - val_accuracy: 0.9334\n"
     ]
    }
   ],
   "source": [
    "model.compile(optimizer = Adam(learning_rate=0.001), loss='categorical_crossentropy', metrics=['accuracy'])\n",
    "history = model.fit(train_X, train_yOHE, epochs=1,  validation_data = (test_X,test_yOHE))"
   ]
  },
  {
   "cell_type": "code",
   "execution_count": 9,
   "id": "c3ded33b",
   "metadata": {},
   "outputs": [
    {
     "name": "stdout",
     "output_type": "stream",
     "text": [
      "Model: \"sequential\"\n",
      "_________________________________________________________________\n",
      "Layer (type)                 Output Shape              Param #   \n",
      "=================================================================\n",
      "conv2d (Conv2D)              (None, 30, 30, 32)        320       \n",
      "_________________________________________________________________\n",
      "max_pooling2d (MaxPooling2D) (None, 15, 15, 32)        0         \n",
      "_________________________________________________________________\n",
      "conv2d_1 (Conv2D)            (None, 15, 15, 64)        18496     \n",
      "_________________________________________________________________\n",
      "max_pooling2d_1 (MaxPooling2 (None, 7, 7, 64)          0         \n",
      "_________________________________________________________________\n",
      "conv2d_2 (Conv2D)            (None, 5, 5, 128)         73856     \n",
      "_________________________________________________________________\n",
      "max_pooling2d_2 (MaxPooling2 (None, 2, 2, 128)         0         \n",
      "_________________________________________________________________\n",
      "flatten (Flatten)            (None, 512)               0         \n",
      "_________________________________________________________________\n",
      "dense (Dense)                (None, 64)                32832     \n",
      "_________________________________________________________________\n",
      "dense_1 (Dense)              (None, 128)               8320      \n",
      "_________________________________________________________________\n",
      "dense_2 (Dense)              (None, 21)                2709      \n",
      "=================================================================\n",
      "Total params: 136,533\n",
      "Trainable params: 136,533\n",
      "Non-trainable params: 0\n",
      "_________________________________________________________________\n"
     ]
    }
   ],
   "source": [
    "model.summary()\n"
   ]
  },
  {
   "cell_type": "code",
   "execution_count": 10,
   "id": "8b5a7aa1",
   "metadata": {
    "scrolled": true
   },
   "outputs": [
    {
     "name": "stdout",
     "output_type": "stream",
     "text": [
      "The validation accuracy is : [0.9333550930023193]\n",
      "The training accuracy is : [0.7695197463035583]\n",
      "The validation loss is : [0.20982550084590912]\n",
      "The training loss is : [0.814554750919342]\n"
     ]
    }
   ],
   "source": [
    "print(\"The validation accuracy is :\", history.history['val_accuracy'])\n",
    "print(\"The training accuracy is :\", history.history['accuracy'])\n",
    "print(\"The validation loss is :\", history.history['val_loss'])\n",
    "print(\"The training loss is :\", history.history['loss'])"
   ]
  },
  {
   "cell_type": "code",
   "execution_count": 11,
   "id": "e3665dcc",
   "metadata": {},
   "outputs": [
    {
     "name": "stdout",
     "output_type": "stream",
     "text": [
      "0\n",
      "0\n",
      "0\n",
      "1\n",
      "2\n",
      "3\n",
      "4\n",
      "5\n",
      "5\n",
      "5\n",
      "Extraction Complete!\n"
     ]
    }
   ],
   "source": [
    "im = cv2.imread(\"OneDrive/Desktop/pilot.jpg\")\n",
    "cv2.imshow(\" image\",im)\n",
    "gray=cv2.cvtColor(im, cv2.COLOR_BGR2GRAY)\n",
    "\n",
    "blur = cv2.GaussianBlur(gray,(5,5),0)\n",
    "\n",
    "thresh =  cv2.adaptiveThreshold(blur, 255, cv2.ADAPTIVE_THRESH_GAUSSIAN_C,cv2.THRESH_BINARY_INV, blockSize = 321, C = 38)\n",
    "count=0\n",
    "t=[]\n",
    "for i in [*range(thresh.shape[0])]:\n",
    "    \n",
    "    for j in [*range(thresh.shape[1])]:\n",
    "        if thresh[i,j]==255 :\n",
    "            count+=1\n",
    "        else: \n",
    "            continue\n",
    "    t.append(count)\n",
    "    count=0\n",
    "\n",
    "    \n",
    "max_value = max(t)\n",
    "\n",
    "max_index = t.index(max_value)\n",
    "\n",
    "thresh[max_index-8:max_index+16,:]=0\n",
    "\n",
    "cv2.imshow(\"header removed \",thresh)\n",
    "cv2.waitKey(0)\n",
    "cv2.destroyAllWindows()\n",
    "    \n",
    "\n",
    "#################      Now finding Contours         ###################\n",
    "\n",
    "contours,hierarchy = cv2.findContours(thresh,cv2.RETR_LIST,cv2.CHAIN_APPROX_SIMPLE)\n",
    "\n",
    "samples =  np.empty((0,1024))\n",
    "responses = []\n",
    "keys = [i for i in range(48,58)]\n",
    "\n",
    "key=0\n",
    "A=np.zeros((6,1024))\n",
    "\n",
    "\n",
    "j=0\n",
    "for cnt in contours:\n",
    "   \n",
    "    if cv2.contourArea(cnt)>100:\n",
    "            [x,y,w,h] = cv2.boundingRect(cnt)\n",
    "\n",
    "            if  h>28:\n",
    "                j+=1\n",
    "                cv2.rectangle(im,(x,y),(x+w,y+h),(0,0,255),2)\n",
    "                roi = thresh[y:y+h,x:x+w]\n",
    "               \n",
    "                roismall = cv2.resize(roi,(32,32))\n",
    "\n",
    "                cv2.imshow('norm',im)\n",
    "                key = cv2.waitKey(0)\n",
    "          \n",
    "                A[j-1,:]=np.reshape(roismall,(1,1024))\n",
    "                \n",
    "            elif key == 27:  # (escape to quit)\n",
    "                sys.exit()\n",
    "            elif key in keys:\n",
    "                responses.append(int(chr(key)))\n",
    "                sample = roismall.reshape((1,1024))\n",
    "             \n",
    "    print(j)\n",
    "\n",
    "responses = np.array(responses,np.float32)\n",
    "responses = responses.reshape((responses.size,1))\n",
    "\n",
    "\n",
    "print (\"Extraction Complete!\")\n",
    "\n",
    "np.savetxt('generalsamples.data',samples)\n",
    "np.savetxt('generalresponses.data',responses)\n",
    "\n"
   ]
  },
  {
   "cell_type": "code",
   "execution_count": 12,
   "id": "ca8fac9a",
   "metadata": {},
   "outputs": [],
   "source": [
    "#Reshape 1\n",
    "\n",
    "\n",
    "testing_A = np.reshape(A, (A.shape[0],32,32))\n",
    "\n",
    "#Reshape 2\n",
    "testing_A = testing_A.reshape(testing_A.shape[0],testing_A.shape[1],testing_A.shape[2],1)\n",
    "\n",
    "\n"
   ]
  },
  {
   "cell_type": "code",
   "execution_count": 13,
   "id": "268657ab",
   "metadata": {
    "scrolled": true
   },
   "outputs": [
    {
     "name": "stdout",
     "output_type": "stream",
     "text": [
      "0\n",
      "(6, 32, 32, 1)\n",
      "1\n",
      "(6, 32, 32, 1)\n",
      "2\n",
      "(6, 32, 32, 1)\n",
      "3\n",
      "(6, 32, 32, 1)\n",
      "4\n",
      "(6, 32, 32, 1)\n",
      "5\n",
      "(6, 32, 32, 1)\n",
      "6\n",
      "Word is :: vapakayalaha\n"
     ]
    },
    {
     "data": {
      "image/png": "[encoded data removed]",
      "text/plain": [
       "<Figure size 576x648 with 9 Axes>"
      ]
     },
     "metadata": {
      "needs_background": "light"
     },
     "output_type": "display_data"
    }
   ],
   "source": [
    "fig, axes = plt.subplots(3,3, figsize=(8,9))\n",
    "axes = axes.flatten()\n",
    "predictions=[]\n",
    "a=[]\n",
    "predictions = model.predict(testing_A)\n",
    "for i,ax in enumerate(axes):\n",
    "    print(i)\n",
    "    if i<testing_A.shape[0]:\n",
    "        print(testing_A.shape)\n",
    "        img = np.reshape(testing_A[i], (32,32))\n",
    "\n",
    "        ax.imshow(img, cmap=\"Greys\")\n",
    "    else:\n",
    "        break\n",
    "\n",
    "    pred = np.argmax(predictions[i])\n",
    "    a.append(d[pred])\n",
    "    ax.set_title(d[pred])\n",
    "    ax.grid()\n",
    "a.reverse()\n",
    "word=\"\".join(a)\n",
    "print(\"Word is ::\",word)\n"
   ]
  },
  {
   "cell_type": "code",
   "execution_count": null,
   "id": "54faaa44",
   "metadata": {},
   "outputs": [],
   "source": []
  }
 ],
 "metadata": {
  "kernelspec": {
   "display_name": "Python 3",
   "language": "python",
   "name": "python3"
  },
  "language_info": {
   "codemirror_mode": {
    "name": "ipython",
    "version": 3
   },
   "file_extension": ".py",
   "mimetype": "text/x-python",
   "name": "python",
   "nbconvert_exporter": "python",
   "pygments_lexer": "ipython3",
   "version": "3.8.8"
  }
 },
 "nbformat": 4,
 "nbformat_minor": 5
}
